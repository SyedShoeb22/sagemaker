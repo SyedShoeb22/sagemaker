{
 "cells": [
  {
   "cell_type": "code",
   "execution_count": 1,
   "id": "ce2e7964-03ab-4580-9de9-c5101670ce75",
   "metadata": {
    "execution": {
     "iopub.execute_input": "2025-10-25T05:13:59.399069Z",
     "iopub.status.busy": "2025-10-25T05:13:59.398809Z",
     "iopub.status.idle": "2025-10-25T05:14:36.298894Z",
     "shell.execute_reply": "2025-10-25T05:14:36.297979Z",
     "shell.execute_reply.started": "2025-10-25T05:13:59.399047Z"
    }
   },
   "outputs": [
    {
     "name": "stdout",
     "output_type": "stream",
     "text": [
      "Requirement already satisfied: langchain in /opt/conda/lib/python3.12/site-packages (0.3.27)\n",
      "Requirement already satisfied: boto3 in /opt/conda/lib/python3.12/site-packages (1.37.1)\n",
      "Collecting faiss-cpu\n",
      "  Downloading faiss_cpu-1.12.0-cp312-cp312-manylinux_2_27_x86_64.manylinux_2_28_x86_64.whl.metadata (5.1 kB)\n",
      "Collecting sentence-transformers\n",
      "  Downloading sentence_transformers-5.1.2-py3-none-any.whl.metadata (16 kB)\n",
      "Requirement already satisfied: sagemaker in /opt/conda/lib/python3.12/site-packages (2.245.0)\n",
      "Collecting awscli\n",
      "  Downloading awscli-1.42.59-py3-none-any.whl.metadata (11 kB)\n",
      "Requirement already satisfied: langchain-core<1.0.0,>=0.3.72 in /opt/conda/lib/python3.12/site-packages (from langchain) (0.3.74)\n",
      "Requirement already satisfied: langchain-text-splitters<1.0.0,>=0.3.9 in /opt/conda/lib/python3.12/site-packages (from langchain) (0.3.9)\n",
      "Requirement already satisfied: langsmith>=0.1.17 in /opt/conda/lib/python3.12/site-packages (from langchain) (0.3.45)\n",
      "Requirement already satisfied: pydantic<3.0.0,>=2.7.4 in /opt/conda/lib/python3.12/site-packages (from langchain) (2.11.7)\n",
      "Requirement already satisfied: SQLAlchemy<3,>=1.4 in /opt/conda/lib/python3.12/site-packages (from langchain) (2.0.43)\n",
      "Requirement already satisfied: requests<3,>=2 in /opt/conda/lib/python3.12/site-packages (from langchain) (2.32.4)\n",
      "Requirement already satisfied: PyYAML>=5.3 in /opt/conda/lib/python3.12/site-packages (from langchain) (6.0.2)\n",
      "Requirement already satisfied: tenacity!=8.4.0,<10.0.0,>=8.1.0 in /opt/conda/lib/python3.12/site-packages (from langchain-core<1.0.0,>=0.3.72->langchain) (9.1.2)\n",
      "Requirement already satisfied: jsonpatch<2.0,>=1.33 in /opt/conda/lib/python3.12/site-packages (from langchain-core<1.0.0,>=0.3.72->langchain) (1.33)\n",
      "Requirement already satisfied: typing-extensions>=4.7 in /opt/conda/lib/python3.12/site-packages (from langchain-core<1.0.0,>=0.3.72->langchain) (4.14.1)\n",
      "Requirement already satisfied: packaging>=23.2 in /opt/conda/lib/python3.12/site-packages (from langchain-core<1.0.0,>=0.3.72->langchain) (24.2)\n",
      "Requirement already satisfied: jsonpointer>=1.9 in /opt/conda/lib/python3.12/site-packages (from jsonpatch<2.0,>=1.33->langchain-core<1.0.0,>=0.3.72->langchain) (3.0.0)\n",
      "Requirement already satisfied: annotated-types>=0.6.0 in /opt/conda/lib/python3.12/site-packages (from pydantic<3.0.0,>=2.7.4->langchain) (0.7.0)\n",
      "Requirement already satisfied: pydantic-core==2.33.2 in /opt/conda/lib/python3.12/site-packages (from pydantic<3.0.0,>=2.7.4->langchain) (2.33.2)\n",
      "Requirement already satisfied: typing-inspection>=0.4.0 in /opt/conda/lib/python3.12/site-packages (from pydantic<3.0.0,>=2.7.4->langchain) (0.4.1)\n",
      "Requirement already satisfied: charset_normalizer<4,>=2 in /opt/conda/lib/python3.12/site-packages (from requests<3,>=2->langchain) (3.4.3)\n",
      "Requirement already satisfied: idna<4,>=2.5 in /opt/conda/lib/python3.12/site-packages (from requests<3,>=2->langchain) (3.10)\n",
      "Requirement already satisfied: urllib3<3,>=1.21.1 in /opt/conda/lib/python3.12/site-packages (from requests<3,>=2->langchain) (1.26.19)\n",
      "Requirement already satisfied: certifi>=2017.4.17 in /opt/conda/lib/python3.12/site-packages (from requests<3,>=2->langchain) (2025.8.3)\n",
      "Requirement already satisfied: greenlet>=1 in /opt/conda/lib/python3.12/site-packages (from SQLAlchemy<3,>=1.4->langchain) (3.2.4)\n",
      "Requirement already satisfied: botocore<1.38.0,>=1.37.1 in /opt/conda/lib/python3.12/site-packages (from boto3) (1.37.1)\n",
      "Requirement already satisfied: jmespath<2.0.0,>=0.7.1 in /opt/conda/lib/python3.12/site-packages (from boto3) (1.0.1)\n",
      "Requirement already satisfied: s3transfer<0.12.0,>=0.11.0 in /opt/conda/lib/python3.12/site-packages (from boto3) (0.11.3)\n",
      "Requirement already satisfied: python-dateutil<3.0.0,>=2.1 in /opt/conda/lib/python3.12/site-packages (from botocore<1.38.0,>=1.37.1->boto3) (2.9.0.post0)\n",
      "Requirement already satisfied: six>=1.5 in /opt/conda/lib/python3.12/site-packages (from python-dateutil<3.0.0,>=2.1->botocore<1.38.0,>=1.37.1->boto3) (1.17.0)\n",
      "Requirement already satisfied: numpy<3.0,>=1.25.0 in /opt/conda/lib/python3.12/site-packages (from faiss-cpu) (1.26.4)\n",
      "Requirement already satisfied: transformers<5.0.0,>=4.41.0 in /opt/conda/lib/python3.12/site-packages (from sentence-transformers) (4.55.2)\n",
      "Requirement already satisfied: tqdm in /opt/conda/lib/python3.12/site-packages (from sentence-transformers) (4.67.1)\n",
      "Requirement already satisfied: torch>=1.11.0 in /opt/conda/lib/python3.12/site-packages (from sentence-transformers) (2.6.0)\n",
      "Requirement already satisfied: scikit-learn in /opt/conda/lib/python3.12/site-packages (from sentence-transformers) (1.7.1)\n",
      "Requirement already satisfied: scipy in /opt/conda/lib/python3.12/site-packages (from sentence-transformers) (1.16.1)\n",
      "Requirement already satisfied: huggingface-hub>=0.20.0 in /opt/conda/lib/python3.12/site-packages (from sentence-transformers) (0.34.4)\n",
      "Requirement already satisfied: Pillow in /opt/conda/lib/python3.12/site-packages (from sentence-transformers) (11.3.0)\n",
      "Requirement already satisfied: filelock in /opt/conda/lib/python3.12/site-packages (from transformers<5.0.0,>=4.41.0->sentence-transformers) (3.19.1)\n",
      "Requirement already satisfied: regex!=2019.12.17 in /opt/conda/lib/python3.12/site-packages (from transformers<5.0.0,>=4.41.0->sentence-transformers) (2025.7.34)\n",
      "Requirement already satisfied: tokenizers<0.22,>=0.21 in /opt/conda/lib/python3.12/site-packages (from transformers<5.0.0,>=4.41.0->sentence-transformers) (0.21.4)\n",
      "Requirement already satisfied: safetensors>=0.4.3 in /opt/conda/lib/python3.12/site-packages (from transformers<5.0.0,>=4.41.0->sentence-transformers) (0.6.2)\n",
      "Requirement already satisfied: fsspec>=2023.5.0 in /opt/conda/lib/python3.12/site-packages (from huggingface-hub>=0.20.0->sentence-transformers) (2024.12.0)\n",
      "Requirement already satisfied: hf-xet<2.0.0,>=1.1.3 in /opt/conda/lib/python3.12/site-packages (from huggingface-hub>=0.20.0->sentence-transformers) (1.1.7)\n",
      "Requirement already satisfied: attrs<24,>=23.1.0 in /opt/conda/lib/python3.12/site-packages (from sagemaker) (23.2.0)\n",
      "Requirement already satisfied: cloudpickle>=2.2.1 in /opt/conda/lib/python3.12/site-packages (from sagemaker) (3.1.1)\n",
      "Requirement already satisfied: docker in /opt/conda/lib/python3.12/site-packages (from sagemaker) (7.1.0)\n",
      "Requirement already satisfied: fastapi in /opt/conda/lib/python3.12/site-packages (from sagemaker) (0.116.1)\n",
      "Requirement already satisfied: google-pasta in /opt/conda/lib/python3.12/site-packages (from sagemaker) (0.2.0)\n",
      "Requirement already satisfied: graphene<4,>=3 in /opt/conda/lib/python3.12/site-packages (from sagemaker) (3.4.3)\n",
      "Requirement already satisfied: importlib-metadata<7.0,>=1.4.0 in /opt/conda/lib/python3.12/site-packages (from sagemaker) (6.10.0)\n",
      "Requirement already satisfied: jsonschema in /opt/conda/lib/python3.12/site-packages (from sagemaker) (4.23.0)\n",
      "Requirement already satisfied: omegaconf<3,>=2.2 in /opt/conda/lib/python3.12/site-packages (from sagemaker) (2.3.0)\n",
      "Requirement already satisfied: pandas in /opt/conda/lib/python3.12/site-packages (from sagemaker) (2.3.1)\n",
      "Requirement already satisfied: pathos in /opt/conda/lib/python3.12/site-packages (from sagemaker) (0.3.4)\n",
      "Requirement already satisfied: platformdirs in /opt/conda/lib/python3.12/site-packages (from sagemaker) (4.3.8)\n",
      "Requirement already satisfied: protobuf<6.0,>=3.12 in /opt/conda/lib/python3.12/site-packages (from sagemaker) (5.28.3)\n",
      "Requirement already satisfied: psutil in /opt/conda/lib/python3.12/site-packages (from sagemaker) (5.9.8)\n",
      "Requirement already satisfied: sagemaker-core<2.0.0,>=1.0.17 in /opt/conda/lib/python3.12/site-packages (from sagemaker) (1.0.52)\n",
      "Requirement already satisfied: schema in /opt/conda/lib/python3.12/site-packages (from sagemaker) (0.7.7)\n",
      "Requirement already satisfied: smdebug-rulesconfig==1.0.1 in /opt/conda/lib/python3.12/site-packages (from sagemaker) (1.0.1)\n",
      "Requirement already satisfied: tblib<4,>=1.7.0 in /opt/conda/lib/python3.12/site-packages (from sagemaker) (3.1.0)\n",
      "Requirement already satisfied: uvicorn in /opt/conda/lib/python3.12/site-packages (from sagemaker) (0.35.0)\n",
      "Requirement already satisfied: graphql-core<3.3,>=3.1 in /opt/conda/lib/python3.12/site-packages (from graphene<4,>=3->sagemaker) (3.2.6)\n",
      "Requirement already satisfied: graphql-relay<3.3,>=3.1 in /opt/conda/lib/python3.12/site-packages (from graphene<4,>=3->sagemaker) (3.2.0)\n",
      "Requirement already satisfied: zipp>=0.5 in /opt/conda/lib/python3.12/site-packages (from importlib-metadata<7.0,>=1.4.0->sagemaker) (3.23.0)\n",
      "Requirement already satisfied: antlr4-python3-runtime==4.9.* in /opt/conda/lib/python3.12/site-packages (from omegaconf<3,>=2.2->sagemaker) (4.9.3)\n",
      "Requirement already satisfied: rich<15.0.0,>=13.0.0 in /opt/conda/lib/python3.12/site-packages (from sagemaker-core<2.0.0,>=1.0.17->sagemaker) (13.9.4)\n",
      "Requirement already satisfied: mock<5.0,>4.0 in /opt/conda/lib/python3.12/site-packages (from sagemaker-core<2.0.0,>=1.0.17->sagemaker) (4.0.3)\n",
      "Requirement already satisfied: jsonschema-specifications>=2023.03.6 in /opt/conda/lib/python3.12/site-packages (from jsonschema->sagemaker) (2025.4.1)\n",
      "Requirement already satisfied: referencing>=0.28.4 in /opt/conda/lib/python3.12/site-packages (from jsonschema->sagemaker) (0.36.2)\n",
      "Requirement already satisfied: rpds-py>=0.7.1 in /opt/conda/lib/python3.12/site-packages (from jsonschema->sagemaker) (0.27.0)\n",
      "Requirement already satisfied: markdown-it-py>=2.2.0 in /opt/conda/lib/python3.12/site-packages (from rich<15.0.0,>=13.0.0->sagemaker-core<2.0.0,>=1.0.17->sagemaker) (4.0.0)\n",
      "Requirement already satisfied: pygments<3.0.0,>=2.13.0 in /opt/conda/lib/python3.12/site-packages (from rich<15.0.0,>=13.0.0->sagemaker-core<2.0.0,>=1.0.17->sagemaker) (2.19.2)\n",
      "INFO: pip is looking at multiple versions of awscli to determine which version is compatible with other requirements. This could take a while.\n",
      "  Downloading awscli-1.42.58-py3-none-any.whl.metadata (11 kB)\n",
      "  Downloading awscli-1.42.57-py3-none-any.whl.metadata (11 kB)\n",
      "  Downloading awscli-1.42.56-py3-none-any.whl.metadata (11 kB)\n",
      "  Downloading awscli-1.42.55-py3-none-any.whl.metadata (11 kB)\n",
      "  Downloading awscli-1.42.54-py3-none-any.whl.metadata (11 kB)\n",
      "  Downloading awscli-1.42.53-py3-none-any.whl.metadata (11 kB)\n",
      "  Downloading awscli-1.42.52-py3-none-any.whl.metadata (11 kB)\n",
      "INFO: pip is still looking at multiple versions of awscli to determine which version is compatible with other requirements. This could take a while.\n",
      "  Downloading awscli-1.42.51-py3-none-any.whl.metadata (11 kB)\n",
      "  Downloading awscli-1.42.50-py3-none-any.whl.metadata (11 kB)\n",
      "  Downloading awscli-1.42.49-py3-none-any.whl.metadata (11 kB)\n",
      "  Downloading awscli-1.42.48-py3-none-any.whl.metadata (11 kB)\n",
      "  Downloading awscli-1.42.47-py3-none-any.whl.metadata (11 kB)\n",
      "INFO: This is taking longer than usual. You might need to provide the dependency resolver with stricter constraints to reduce runtime. See https://pip.pypa.io/warnings/backtracking for guidance. If you want to abort this run, press Ctrl + C.\n",
      "  Downloading awscli-1.42.46-py3-none-any.whl.metadata (11 kB)\n",
      "  Downloading awscli-1.42.45-py3-none-any.whl.metadata (11 kB)\n",
      "  Downloading awscli-1.42.44-py3-none-any.whl.metadata (11 kB)\n",
      "  Downloading awscli-1.42.43-py3-none-any.whl.metadata (11 kB)\n",
      "  Downloading awscli-1.42.42-py3-none-any.whl.metadata (11 kB)\n",
      "  Downloading awscli-1.42.41-py3-none-any.whl.metadata (11 kB)\n",
      "  Downloading awscli-1.42.40-py3-none-any.whl.metadata (11 kB)\n",
      "  Downloading awscli-1.42.39-py3-none-any.whl.metadata (11 kB)\n",
      "  Downloading awscli-1.42.38-py3-none-any.whl.metadata (11 kB)\n",
      "  Downloading awscli-1.42.37-py3-none-any.whl.metadata (11 kB)\n",
      "  Downloading awscli-1.42.36-py3-none-any.whl.metadata (11 kB)\n",
      "  Downloading awscli-1.42.35-py3-none-any.whl.metadata (11 kB)\n",
      "  Downloading awscli-1.42.34-py3-none-any.whl.metadata (11 kB)\n",
      "  Downloading awscli-1.42.33-py3-none-any.whl.metadata (11 kB)\n",
      "  Downloading awscli-1.42.32-py3-none-any.whl.metadata (11 kB)\n",
      "  Downloading awscli-1.42.31-py3-none-any.whl.metadata (11 kB)\n",
      "  Downloading awscli-1.42.30-py3-none-any.whl.metadata (11 kB)\n",
      "  Downloading awscli-1.42.29-py3-none-any.whl.metadata (11 kB)\n",
      "  Downloading awscli-1.42.28-py3-none-any.whl.metadata (11 kB)\n",
      "  Downloading awscli-1.42.27-py3-none-any.whl.metadata (11 kB)\n",
      "  Downloading awscli-1.42.26-py3-none-any.whl.metadata (11 kB)\n",
      "  Downloading awscli-1.42.25-py3-none-any.whl.metadata (11 kB)\n",
      "  Downloading awscli-1.42.24-py3-none-any.whl.metadata (11 kB)\n",
      "  Downloading awscli-1.42.23-py3-none-any.whl.metadata (11 kB)\n",
      "  Downloading awscli-1.42.22-py3-none-any.whl.metadata (11 kB)\n",
      "  Downloading awscli-1.42.21-py3-none-any.whl.metadata (11 kB)\n",
      "  Downloading awscli-1.42.20-py3-none-any.whl.metadata (11 kB)\n",
      "  Downloading awscli-1.42.19-py3-none-any.whl.metadata (11 kB)\n",
      "  Downloading awscli-1.42.18-py3-none-any.whl.metadata (11 kB)\n",
      "  Downloading awscli-1.42.17-py3-none-any.whl.metadata (11 kB)\n",
      "  Downloading awscli-1.42.16-py3-none-any.whl.metadata (11 kB)\n",
      "  Downloading awscli-1.42.15-py3-none-any.whl.metadata (11 kB)\n",
      "  Downloading awscli-1.42.14-py3-none-any.whl.metadata (11 kB)\n",
      "  Downloading awscli-1.42.13-py3-none-any.whl.metadata (11 kB)\n",
      "  Downloading awscli-1.42.12-py3-none-any.whl.metadata (11 kB)\n",
      "  Downloading awscli-1.42.11-py3-none-any.whl.metadata (11 kB)\n",
      "  Downloading awscli-1.42.10-py3-none-any.whl.metadata (11 kB)\n",
      "  Downloading awscli-1.42.9-py3-none-any.whl.metadata (11 kB)\n",
      "  Downloading awscli-1.42.8-py3-none-any.whl.metadata (11 kB)\n",
      "  Downloading awscli-1.42.7-py3-none-any.whl.metadata (11 kB)\n",
      "  Downloading awscli-1.42.6-py3-none-any.whl.metadata (11 kB)\n",
      "  Downloading awscli-1.42.5-py3-none-any.whl.metadata (11 kB)\n",
      "  Downloading awscli-1.42.4-py3-none-any.whl.metadata (11 kB)\n",
      "  Downloading awscli-1.42.3-py3-none-any.whl.metadata (11 kB)\n",
      "  Downloading awscli-1.42.2-py3-none-any.whl.metadata (11 kB)\n",
      "  Downloading awscli-1.42.1-py3-none-any.whl.metadata (11 kB)\n",
      "  Downloading awscli-1.42.0-py3-none-any.whl.metadata (11 kB)\n",
      "  Downloading awscli-1.41.17-py3-none-any.whl.metadata (11 kB)\n",
      "  Downloading awscli-1.41.16-py3-none-any.whl.metadata (11 kB)\n",
      "  Downloading awscli-1.41.15-py3-none-any.whl.metadata (11 kB)\n",
      "  Downloading awscli-1.41.14-py3-none-any.whl.metadata (11 kB)\n",
      "  Downloading awscli-1.41.13-py3-none-any.whl.metadata (11 kB)\n",
      "  Downloading awscli-1.41.12-py3-none-any.whl.metadata (11 kB)\n",
      "  Downloading awscli-1.41.11-py3-none-any.whl.metadata (11 kB)\n",
      "  Downloading awscli-1.41.10-py3-none-any.whl.metadata (11 kB)\n",
      "  Downloading awscli-1.41.9-py3-none-any.whl.metadata (11 kB)\n",
      "  Downloading awscli-1.41.8-py3-none-any.whl.metadata (11 kB)\n",
      "  Downloading awscli-1.41.7-py3-none-any.whl.metadata (11 kB)\n",
      "  Downloading awscli-1.41.6-py3-none-any.whl.metadata (11 kB)\n",
      "  Downloading awscli-1.41.5-py3-none-any.whl.metadata (11 kB)\n",
      "  Downloading awscli-1.41.4-py3-none-any.whl.metadata (11 kB)\n",
      "  Downloading awscli-1.41.3-py3-none-any.whl.metadata (11 kB)\n",
      "  Downloading awscli-1.41.2-py3-none-any.whl.metadata (11 kB)\n",
      "  Downloading awscli-1.41.1-py3-none-any.whl.metadata (11 kB)\n",
      "  Downloading awscli-1.41.0-py3-none-any.whl.metadata (11 kB)\n",
      "  Downloading awscli-1.40.45-py3-none-any.whl.metadata (11 kB)\n",
      "  Downloading awscli-1.40.44-py3-none-any.whl.metadata (11 kB)\n",
      "  Downloading awscli-1.40.43-py3-none-any.whl.metadata (11 kB)\n",
      "  Downloading awscli-1.40.42-py3-none-any.whl.metadata (11 kB)\n",
      "  Downloading awscli-1.40.41-py3-none-any.whl.metadata (11 kB)\n",
      "  Downloading awscli-1.40.40-py3-none-any.whl.metadata (11 kB)\n",
      "  Downloading awscli-1.40.39-py3-none-any.whl.metadata (11 kB)\n",
      "  Downloading awscli-1.40.38-py3-none-any.whl.metadata (11 kB)\n",
      "  Downloading awscli-1.40.37-py3-none-any.whl.metadata (11 kB)\n",
      "  Downloading awscli-1.40.36-py3-none-any.whl.metadata (11 kB)\n",
      "  Downloading awscli-1.40.35-py3-none-any.whl.metadata (11 kB)\n",
      "  Downloading awscli-1.40.34-py3-none-any.whl.metadata (11 kB)\n",
      "  Downloading awscli-1.40.33-py3-none-any.whl.metadata (11 kB)\n",
      "  Downloading awscli-1.40.32-py3-none-any.whl.metadata (11 kB)\n",
      "  Downloading awscli-1.40.31-py3-none-any.whl.metadata (11 kB)\n",
      "  Downloading awscli-1.40.30-py3-none-any.whl.metadata (11 kB)\n",
      "  Downloading awscli-1.40.29-py3-none-any.whl.metadata (11 kB)\n",
      "  Downloading awscli-1.40.28-py3-none-any.whl.metadata (11 kB)\n",
      "  Downloading awscli-1.40.27-py3-none-any.whl.metadata (11 kB)\n",
      "  Downloading awscli-1.40.26-py3-none-any.whl.metadata (11 kB)\n",
      "  Downloading awscli-1.40.25-py3-none-any.whl.metadata (11 kB)\n",
      "  Downloading awscli-1.40.24-py3-none-any.whl.metadata (11 kB)\n",
      "  Downloading awscli-1.40.23-py3-none-any.whl.metadata (11 kB)\n",
      "  Downloading awscli-1.40.22-py3-none-any.whl.metadata (11 kB)\n",
      "  Downloading awscli-1.40.21-py3-none-any.whl.metadata (11 kB)\n",
      "  Downloading awscli-1.40.20-py3-none-any.whl.metadata (11 kB)\n",
      "  Downloading awscli-1.40.19-py3-none-any.whl.metadata (11 kB)\n",
      "  Downloading awscli-1.40.18-py3-none-any.whl.metadata (11 kB)\n",
      "  Downloading awscli-1.40.17-py3-none-any.whl.metadata (11 kB)\n",
      "  Downloading awscli-1.40.16-py3-none-any.whl.metadata (11 kB)\n",
      "  Downloading awscli-1.40.15-py3-none-any.whl.metadata (11 kB)\n",
      "  Downloading awscli-1.40.14-py3-none-any.whl.metadata (11 kB)\n",
      "  Downloading awscli-1.40.13-py3-none-any.whl.metadata (11 kB)\n",
      "  Downloading awscli-1.40.12-py3-none-any.whl.metadata (11 kB)\n",
      "  Downloading awscli-1.40.11-py3-none-any.whl.metadata (11 kB)\n",
      "  Downloading awscli-1.40.10-py3-none-any.whl.metadata (11 kB)\n",
      "  Downloading awscli-1.40.9-py3-none-any.whl.metadata (11 kB)\n",
      "  Downloading awscli-1.40.8-py3-none-any.whl.metadata (11 kB)\n",
      "  Downloading awscli-1.40.7-py3-none-any.whl.metadata (11 kB)\n",
      "  Downloading awscli-1.40.6-py3-none-any.whl.metadata (11 kB)\n",
      "  Downloading awscli-1.40.5-py3-none-any.whl.metadata (11 kB)\n",
      "  Downloading awscli-1.40.4-py3-none-any.whl.metadata (11 kB)\n",
      "  Downloading awscli-1.40.3-py3-none-any.whl.metadata (11 kB)\n",
      "  Downloading awscli-1.40.2-py3-none-any.whl.metadata (11 kB)\n",
      "  Downloading awscli-1.40.1-py3-none-any.whl.metadata (11 kB)\n",
      "  Downloading awscli-1.40.0-py3-none-any.whl.metadata (11 kB)\n",
      "  Downloading awscli-1.39.0-py3-none-any.whl.metadata (11 kB)\n",
      "  Downloading awscli-1.38.38-py3-none-any.whl.metadata (11 kB)\n",
      "Collecting botocore<1.38.0,>=1.37.1 (from boto3)\n",
      "  Downloading botocore-1.37.38-py3-none-any.whl.metadata (5.7 kB)\n",
      "Collecting docutils<=0.19,>=0.18.1 (from awscli)\n",
      "  Downloading docutils-0.19-py3-none-any.whl.metadata (2.7 kB)\n",
      "Requirement already satisfied: colorama<0.4.7,>=0.2.5 in /opt/conda/lib/python3.12/site-packages (from awscli) (0.4.6)\n",
      "Collecting rsa<4.8,>=3.1.2 (from awscli)\n",
      "  Downloading rsa-4.7.2-py3-none-any.whl.metadata (3.6 kB)\n",
      "Requirement already satisfied: pyasn1>=0.1.3 in /opt/conda/lib/python3.12/site-packages (from rsa<4.8,>=3.1.2->awscli) (0.6.1)\n",
      "Requirement already satisfied: httpx<1,>=0.23.0 in /opt/conda/lib/python3.12/site-packages (from langsmith>=0.1.17->langchain) (0.28.1)\n",
      "Requirement already satisfied: orjson<4.0.0,>=3.9.14 in /opt/conda/lib/python3.12/site-packages (from langsmith>=0.1.17->langchain) (3.11.2)\n",
      "Requirement already satisfied: requests-toolbelt<2.0.0,>=1.0.0 in /opt/conda/lib/python3.12/site-packages (from langsmith>=0.1.17->langchain) (1.0.0)\n",
      "Requirement already satisfied: zstandard<0.24.0,>=0.23.0 in /opt/conda/lib/python3.12/site-packages (from langsmith>=0.1.17->langchain) (0.23.0)\n",
      "Requirement already satisfied: anyio in /opt/conda/lib/python3.12/site-packages (from httpx<1,>=0.23.0->langsmith>=0.1.17->langchain) (4.10.0)\n",
      "Requirement already satisfied: httpcore==1.* in /opt/conda/lib/python3.12/site-packages (from httpx<1,>=0.23.0->langsmith>=0.1.17->langchain) (1.0.9)\n",
      "Requirement already satisfied: h11>=0.16 in /opt/conda/lib/python3.12/site-packages (from httpcore==1.*->httpx<1,>=0.23.0->langsmith>=0.1.17->langchain) (0.16.0)\n",
      "Requirement already satisfied: mdurl~=0.1 in /opt/conda/lib/python3.12/site-packages (from markdown-it-py>=2.2.0->rich<15.0.0,>=13.0.0->sagemaker-core<2.0.0,>=1.0.17->sagemaker) (0.1.2)\n",
      "Requirement already satisfied: setuptools in /opt/conda/lib/python3.12/site-packages (from torch>=1.11.0->sentence-transformers) (80.9.0)\n",
      "Requirement already satisfied: sympy!=1.13.2,>=1.13.1 in /opt/conda/lib/python3.12/site-packages (from torch>=1.11.0->sentence-transformers) (1.14.0)\n",
      "Requirement already satisfied: networkx in /opt/conda/lib/python3.12/site-packages (from torch>=1.11.0->sentence-transformers) (3.5)\n",
      "Requirement already satisfied: jinja2 in /opt/conda/lib/python3.12/site-packages (from torch>=1.11.0->sentence-transformers) (3.1.6)\n",
      "Requirement already satisfied: mpmath<1.4,>=1.1.0 in /opt/conda/lib/python3.12/site-packages (from sympy!=1.13.2,>=1.13.1->torch>=1.11.0->sentence-transformers) (1.3.0)\n",
      "Requirement already satisfied: sniffio>=1.1 in /opt/conda/lib/python3.12/site-packages (from anyio->httpx<1,>=0.23.0->langsmith>=0.1.17->langchain) (1.3.1)\n",
      "Requirement already satisfied: starlette<0.48.0,>=0.40.0 in /opt/conda/lib/python3.12/site-packages (from fastapi->sagemaker) (0.47.2)\n",
      "Requirement already satisfied: MarkupSafe>=2.0 in /opt/conda/lib/python3.12/site-packages (from jinja2->torch>=1.11.0->sentence-transformers) (3.0.2)\n",
      "Requirement already satisfied: pytz>=2020.1 in /opt/conda/lib/python3.12/site-packages (from pandas->sagemaker) (2024.2)\n",
      "Requirement already satisfied: tzdata>=2022.7 in /opt/conda/lib/python3.12/site-packages (from pandas->sagemaker) (2025.2)\n",
      "Requirement already satisfied: ppft>=1.7.7 in /opt/conda/lib/python3.12/site-packages (from pathos->sagemaker) (1.7.7)\n",
      "Requirement already satisfied: dill>=0.4.0 in /opt/conda/lib/python3.12/site-packages (from pathos->sagemaker) (0.4.0)\n",
      "Requirement already satisfied: pox>=0.3.6 in /opt/conda/lib/python3.12/site-packages (from pathos->sagemaker) (0.3.6)\n",
      "Requirement already satisfied: multiprocess>=0.70.18 in /opt/conda/lib/python3.12/site-packages (from pathos->sagemaker) (0.70.18)\n",
      "Requirement already satisfied: joblib>=1.2.0 in /opt/conda/lib/python3.12/site-packages (from scikit-learn->sentence-transformers) (1.5.1)\n",
      "Requirement already satisfied: threadpoolctl>=3.1.0 in /opt/conda/lib/python3.12/site-packages (from scikit-learn->sentence-transformers) (3.6.0)\n",
      "Requirement already satisfied: click>=7.0 in /opt/conda/lib/python3.12/site-packages (from uvicorn->sagemaker) (8.2.1)\n",
      "Downloading faiss_cpu-1.12.0-cp312-cp312-manylinux_2_27_x86_64.manylinux_2_28_x86_64.whl (31.4 MB)\n",
      "\u001b[2K   \u001b[90m━━━━━━━━━━━━━━━━━━━━━━━━━━━━━━━━━━━━━━━━\u001b[0m \u001b[32m31.4/31.4 MB\u001b[0m \u001b[31m26.1 MB/s\u001b[0m  \u001b[33m0:00:01\u001b[0mta \u001b[36m0:00:03\u001b[0mm\n",
      "\u001b[?25hDownloading sentence_transformers-5.1.2-py3-none-any.whl (488 kB)\n",
      "Downloading awscli-1.38.38-py3-none-any.whl (4.7 MB)\n",
      "\u001b[2K   \u001b[90m━━━━━━━━━━━━━━━━━━━━━━━━━━━━━━━━━━━━━━━━\u001b[0m \u001b[32m4.7/4.7 MB\u001b[0m \u001b[31m179.3 MB/s\u001b[0m  \u001b[33m0:00:00\u001b[0m\n",
      "\u001b[?25hDownloading botocore-1.37.38-py3-none-any.whl (13.5 MB)\n",
      "\u001b[2K   \u001b[90m━━━━━━━━━━━━━━━━━━━━━━━━━━━━━━━━━━━━━━━━\u001b[0m \u001b[32m13.5/13.5 MB\u001b[0m \u001b[31m14.4 MB/s\u001b[0m  \u001b[33m0:00:00\u001b[0meta \u001b[36m0:00:01\u001b[0m\n",
      "\u001b[?25hDownloading docutils-0.19-py3-none-any.whl (570 kB)\n",
      "\u001b[2K   \u001b[90m━━━━━━━━━━━━━━━━━━━━━━━━━━━━━━━━━━━━━━━━\u001b[0m \u001b[32m570.5/570.5 kB\u001b[0m \u001b[31m44.1 MB/s\u001b[0m  \u001b[33m0:00:00\u001b[0m\n",
      "\u001b[?25hDownloading rsa-4.7.2-py3-none-any.whl (34 kB)\n",
      "Installing collected packages: rsa, faiss-cpu, docutils, botocore, awscli, sentence-transformers\n",
      "\u001b[2K  Attempting uninstall: rsa\n",
      "\u001b[2K    Found existing installation: rsa 4.9.1\n",
      "\u001b[2K    Uninstalling rsa-4.9.1:\n",
      "\u001b[2K      Successfully uninstalled rsa-4.9.1\n",
      "\u001b[2K  Attempting uninstall: botocore[0m\u001b[90m━━━━━━━━━━━━━━━━━━━━━━━━━━\u001b[0m \u001b[32m2/6\u001b[0m [docutils]]\n",
      "\u001b[2K    Found existing installation: botocore 1.37.1━━━━━━━━━━━━━━\u001b[0m \u001b[32m2/6\u001b[0m [docutils]\n",
      "\u001b[2K    Uninstalling botocore-1.37.1:90m━━━━━━━━━━━━━━━━━━━━━━━━━━\u001b[0m \u001b[32m2/6\u001b[0m [docutils]\n",
      "\u001b[2K      Successfully uninstalled botocore-1.37.1━━━━━━━━━━━━━━━━\u001b[0m \u001b[32m2/6\u001b[0m [docutils]\n",
      "\u001b[2K   \u001b[90m━━━━━━━━━━━━━━━━━━━━━━━━━━━━━━━━━━━━━━━━\u001b[0m \u001b[32m6/6\u001b[0m [sentence-transformers]ence-transformers]\n",
      "\u001b[1A\u001b[2K\u001b[31mERROR: pip's dependency resolver does not currently take into account all the packages that are installed. This behaviour is the source of the following dependency conflicts.\n",
      "aiobotocore 2.21.1 requires botocore<1.37.2,>=1.37.0, but you have botocore 1.37.38 which is incompatible.\n",
      "langchain-aws 0.2.19 requires boto3>=1.37.24, but you have boto3 1.37.1 which is incompatible.\n",
      "sagemaker-studio-analytics-extension 0.2.0 requires sparkmagic==0.22.0, but you have sparkmagic 0.21.0 which is incompatible.\u001b[0m\u001b[31m\n",
      "\u001b[0mSuccessfully installed awscli-1.38.38 botocore-1.37.38 docutils-0.19 faiss-cpu-1.12.0 rsa-4.7.2 sentence-transformers-5.1.2\n"
     ]
    }
   ],
   "source": [
    "!pip install langchain boto3 faiss-cpu sentence-transformers sagemaker awscli"
   ]
  },
  {
   "cell_type": "code",
   "execution_count": 6,
   "id": "2d7d75aa-6385-4ea5-bc06-11f03d8f4677",
   "metadata": {
    "execution": {
     "iopub.execute_input": "2025-10-25T05:52:51.833092Z",
     "iopub.status.busy": "2025-10-25T05:52:51.832818Z",
     "iopub.status.idle": "2025-10-25T05:52:51.836520Z",
     "shell.execute_reply": "2025-10-25T05:52:51.835748Z",
     "shell.execute_reply.started": "2025-10-25T05:52:51.833070Z"
    }
   },
   "outputs": [],
   "source": [
    "from langchain.embeddings import HuggingFaceEmbeddings\n",
    "from langchain.vectorstores import FAISS\n",
    "from langchain.text_splitter import RecursiveCharacterTextSplitter\n",
    "from langchain.llms import HuggingFacePipeline\n",
    "from langchain.chains import RetrievalQA\n",
    "from transformers import pipeline\n"
   ]
  },
  {
   "cell_type": "code",
   "execution_count": 7,
   "id": "9067d41c-5798-45f7-999c-54e4cb593018",
   "metadata": {
    "execution": {
     "iopub.execute_input": "2025-10-25T05:52:59.158241Z",
     "iopub.status.busy": "2025-10-25T05:52:59.157965Z",
     "iopub.status.idle": "2025-10-25T05:52:59.162052Z",
     "shell.execute_reply": "2025-10-25T05:52:59.161412Z",
     "shell.execute_reply.started": "2025-10-25T05:52:59.158220Z"
    }
   },
   "outputs": [],
   "source": [
    "# 1. Load local dataset\n",
    "with open(\"knowledge.txt\", \"r\") as f:\n",
    "    data = f.read()"
   ]
  },
  {
   "cell_type": "code",
   "execution_count": 8,
   "id": "a38c2d3e-6b81-40dc-8ad4-97a5ee2e54df",
   "metadata": {
    "execution": {
     "iopub.execute_input": "2025-10-25T05:53:00.017705Z",
     "iopub.status.busy": "2025-10-25T05:53:00.017392Z",
     "iopub.status.idle": "2025-10-25T05:53:00.030490Z",
     "shell.execute_reply": "2025-10-25T05:53:00.025433Z",
     "shell.execute_reply.started": "2025-10-25T05:53:00.017683Z"
    }
   },
   "outputs": [],
   "source": [
    "# 2. Split text into chunks\n",
    "splitter = RecursiveCharacterTextSplitter(chunk_size=200, chunk_overlap=20)\n",
    "docs = splitter.create_documents([data])\n"
   ]
  },
  {
   "cell_type": "code",
   "execution_count": 9,
   "id": "d6420771-eccc-4ec3-a9c7-de6bf50557f4",
   "metadata": {
    "execution": {
     "iopub.execute_input": "2025-10-25T05:53:00.832129Z",
     "iopub.status.busy": "2025-10-25T05:53:00.831813Z",
     "iopub.status.idle": "2025-10-25T05:53:02.671886Z",
     "shell.execute_reply": "2025-10-25T05:53:02.671142Z",
     "shell.execute_reply.started": "2025-10-25T05:53:00.832106Z"
    }
   },
   "outputs": [],
   "source": [
    "# 3. Create embeddings and store locally\n",
    "embedding_model = HuggingFaceEmbeddings(model_name=\"sentence-transformers/all-MiniLM-L6-v2\")\n",
    "vectorstore = FAISS.from_documents(docs, embedding_model)"
   ]
  },
  {
   "cell_type": "code",
   "execution_count": 10,
   "id": "9e3ca00d-bd2d-416f-b493-6f820cfd74f3",
   "metadata": {
    "execution": {
     "iopub.execute_input": "2025-10-25T05:53:03.792053Z",
     "iopub.status.busy": "2025-10-25T05:53:03.791713Z",
     "iopub.status.idle": "2025-10-25T05:53:04.760946Z",
     "shell.execute_reply": "2025-10-25T05:53:04.760207Z",
     "shell.execute_reply.started": "2025-10-25T05:53:03.791973Z"
    }
   },
   "outputs": [
    {
     "name": "stderr",
     "output_type": "stream",
     "text": [
      "Device set to use cpu\n",
      "The model 'T5ForConditionalGeneration' is not supported for text-generation. Supported models are ['PeftModelForCausalLM', 'ArceeForCausalLM', 'AriaTextForCausalLM', 'BambaForCausalLM', 'BartForCausalLM', 'BertLMHeadModel', 'BertGenerationDecoder', 'BigBirdForCausalLM', 'BigBirdPegasusForCausalLM', 'BioGptForCausalLM', 'BitNetForCausalLM', 'BlenderbotForCausalLM', 'BlenderbotSmallForCausalLM', 'BloomForCausalLM', 'CamembertForCausalLM', 'LlamaForCausalLM', 'CodeGenForCausalLM', 'CohereForCausalLM', 'Cohere2ForCausalLM', 'CpmAntForCausalLM', 'CTRLLMHeadModel', 'Data2VecTextForCausalLM', 'DbrxForCausalLM', 'DeepseekV2ForCausalLM', 'DeepseekV3ForCausalLM', 'DiffLlamaForCausalLM', 'DogeForCausalLM', 'Dots1ForCausalLM', 'ElectraForCausalLM', 'Emu3ForCausalLM', 'ErnieForCausalLM', 'Ernie4_5ForCausalLM', 'Ernie4_5_MoeForCausalLM', 'Exaone4ForCausalLM', 'FalconForCausalLM', 'FalconH1ForCausalLM', 'FalconMambaForCausalLM', 'FuyuForCausalLM', 'GemmaForCausalLM', 'Gemma2ForCausalLM', 'Gemma3ForConditionalGeneration', 'Gemma3ForCausalLM', 'Gemma3nForConditionalGeneration', 'Gemma3nForCausalLM', 'GitForCausalLM', 'GlmForCausalLM', 'Glm4ForCausalLM', 'Glm4MoeForCausalLM', 'GotOcr2ForConditionalGeneration', 'GPT2LMHeadModel', 'GPT2LMHeadModel', 'GPTBigCodeForCausalLM', 'GPTNeoForCausalLM', 'GPTNeoXForCausalLM', 'GPTNeoXJapaneseForCausalLM', 'GptOssForCausalLM', 'GPTJForCausalLM', 'GraniteForCausalLM', 'GraniteMoeForCausalLM', 'GraniteMoeHybridForCausalLM', 'GraniteMoeSharedForCausalLM', 'HeliumForCausalLM', 'JambaForCausalLM', 'JetMoeForCausalLM', 'Lfm2ForCausalLM', 'LlamaForCausalLM', 'Llama4ForCausalLM', 'Llama4ForCausalLM', 'MambaForCausalLM', 'Mamba2ForCausalLM', 'MarianForCausalLM', 'MBartForCausalLM', 'MegaForCausalLM', 'MegatronBertForCausalLM', 'MiniMaxForCausalLM', 'MistralForCausalLM', 'MixtralForCausalLM', 'MllamaForCausalLM', 'ModernBertDecoderForCausalLM', 'MoshiForCausalLM', 'MptForCausalLM', 'MusicgenForCausalLM', 'MusicgenMelodyForCausalLM', 'MvpForCausalLM', 'NemotronForCausalLM', 'OlmoForCausalLM', 'Olmo2ForCausalLM', 'OlmoeForCausalLM', 'OpenLlamaForCausalLM', 'OpenAIGPTLMHeadModel', 'OPTForCausalLM', 'PegasusForCausalLM', 'PersimmonForCausalLM', 'PhiForCausalLM', 'Phi3ForCausalLM', 'Phi4MultimodalForCausalLM', 'PhimoeForCausalLM', 'PLBartForCausalLM', 'ProphetNetForCausalLM', 'QDQBertLMHeadModel', 'Qwen2ForCausalLM', 'Qwen2MoeForCausalLM', 'Qwen3ForCausalLM', 'Qwen3MoeForCausalLM', 'RecurrentGemmaForCausalLM', 'ReformerModelWithLMHead', 'RemBertForCausalLM', 'RobertaForCausalLM', 'RobertaPreLayerNormForCausalLM', 'RoCBertForCausalLM', 'RoFormerForCausalLM', 'RwkvForCausalLM', 'SmolLM3ForCausalLM', 'Speech2Text2ForCausalLM', 'StableLmForCausalLM', 'Starcoder2ForCausalLM', 'TransfoXLLMHeadModel', 'TrOCRForCausalLM', 'WhisperForCausalLM', 'XGLMForCausalLM', 'XLMWithLMHeadModel', 'XLMProphetNetForCausalLM', 'XLMRobertaForCausalLM', 'XLMRobertaXLForCausalLM', 'XLNetLMHeadModel', 'xLSTMForCausalLM', 'XmodForCausalLM', 'ZambaForCausalLM', 'Zamba2ForCausalLM'].\n"
     ]
    }
   ],
   "source": [
    "# 4. Initialize a local LLM (or use a hosted one via API)\n",
    "llm_pipeline = pipeline(\n",
    "    \"text-generation\",\n",
    "    model=\"google/flan-t5-base\",\n",
    "    tokenizer=\"google/flan-t5-base\",\n",
    "    max_new_tokens=128\n",
    ")\n",
    "llm = HuggingFacePipeline(pipeline=llm_pipeline)\n"
   ]
  },
  {
   "cell_type": "code",
   "execution_count": 11,
   "id": "7fc4e96b-46ff-4797-abef-73778be5a73d",
   "metadata": {
    "execution": {
     "iopub.execute_input": "2025-10-25T05:53:07.128678Z",
     "iopub.status.busy": "2025-10-25T05:53:07.128405Z",
     "iopub.status.idle": "2025-10-25T05:53:07.192622Z",
     "shell.execute_reply": "2025-10-25T05:53:07.191843Z",
     "shell.execute_reply.started": "2025-10-25T05:53:07.128654Z"
    }
   },
   "outputs": [],
   "source": [
    "# 5. Create RAG chain\n",
    "qa = RetrievalQA.from_chain_type(\n",
    "    llm=llm,\n",
    "    retriever=vectorstore.as_retriever(search_kwargs={\"k\": 2})\n",
    ")\n"
   ]
  },
  {
   "cell_type": "code",
   "execution_count": 12,
   "id": "d4452301-a828-4cb8-8d83-7c984c3a637b",
   "metadata": {
    "execution": {
     "iopub.execute_input": "2025-10-25T05:53:08.777084Z",
     "iopub.status.busy": "2025-10-25T05:53:08.776810Z",
     "iopub.status.idle": "2025-10-25T05:53:09.367846Z",
     "shell.execute_reply": "2025-10-25T05:53:09.367051Z",
     "shell.execute_reply.started": "2025-10-25T05:53:08.777064Z"
    }
   },
   "outputs": [
    {
     "name": "stdout",
     "output_type": "stream",
     "text": [
      "Q: What is SageMaker used for?\n",
      "A: Use the following pieces of context to answer the question at the end. If you don't know the answer, just say that you don't know, don't try to make up an answer.\n",
      "\n",
      "Amazon SageMaker is a fully managed machine learning service provided by AWS.\n",
      "It enables developers to build, train, and deploy machine learning models quickly.\n",
      "\n",
      "SageMaker provides tools for data labeling, model monitoring, and MLOps pipelines.\n",
      "EOF\n",
      "\n",
      "Question: What is SageMaker used for?\n",
      "Helpful Answer:\n"
     ]
    }
   ],
   "source": [
    "# 6. Ask a question\n",
    "query = \"What is SageMaker used for?\"\n",
    "answer = qa.run(query)\n",
    "\n",
    "print(\"Q:\", query)\n",
    "print(\"A:\", answer)"
   ]
  },
  {
   "cell_type": "code",
   "execution_count": 15,
   "id": "7fd462a6-11bb-432c-b39c-21a2d109ff70",
   "metadata": {
    "execution": {
     "iopub.execute_input": "2025-10-25T05:54:07.794249Z",
     "iopub.status.busy": "2025-10-25T05:54:07.793972Z",
     "iopub.status.idle": "2025-10-25T05:54:07.797558Z",
     "shell.execute_reply": "2025-10-25T05:54:07.796932Z",
     "shell.execute_reply.started": "2025-10-25T05:54:07.794229Z"
    }
   },
   "outputs": [],
   "source": [
    "vectorstore.save_local(\"faiss_index\")"
   ]
  },
  {
   "cell_type": "code",
   "execution_count": 21,
   "id": "aa1f1a0c-9ef4-4914-ac94-d8d3c22e6e56",
   "metadata": {
    "execution": {
     "iopub.execute_input": "2025-10-25T06:03:20.999433Z",
     "iopub.status.busy": "2025-10-25T06:03:20.999163Z",
     "iopub.status.idle": "2025-10-25T06:03:21.027531Z",
     "shell.execute_reply": "2025-10-25T06:03:21.026661Z",
     "shell.execute_reply.started": "2025-10-25T06:03:20.999413Z"
    }
   },
   "outputs": [
    {
     "ename": "ValueError",
     "evalue": "The de-serialization relies loading a pickle file. Pickle files can be modified to deliver a malicious payload that results in execution of arbitrary code on your machine.You will need to set `allow_dangerous_deserialization` to `True` to enable deserialization. If you do this, make sure that you trust the source of the data. For example, if you are loading a file that you created, and know that no one else has modified the file, then this is safe to do. Do not set this to `True` if you are loading a file from an untrusted source (e.g., some random site on the internet.).",
     "output_type": "error",
     "traceback": [
      "\u001b[0;31m---------------------------------------------------------------------------\u001b[0m",
      "\u001b[0;31mValueError\u001b[0m                                Traceback (most recent call last)",
      "Cell \u001b[0;32mIn[21], line 2\u001b[0m\n\u001b[1;32m      1\u001b[0m \u001b[38;5;66;03m# Later reload\u001b[39;00m\n\u001b[0;32m----> 2\u001b[0m new_vs \u001b[38;5;241m=\u001b[39m \u001b[43mFAISS\u001b[49m\u001b[38;5;241;43m.\u001b[39;49m\u001b[43mload_local\u001b[49m\u001b[43m(\u001b[49m\u001b[38;5;124;43m\"\u001b[39;49m\u001b[38;5;124;43mfaiss_index/index.pkl\u001b[39;49m\u001b[38;5;124;43m\"\u001b[39;49m\u001b[43m,\u001b[49m\u001b[43m \u001b[49m\u001b[43membedding_model\u001b[49m\u001b[43m)\u001b[49m\n",
      "File \u001b[0;32m/opt/conda/lib/python3.12/site-packages/langchain_community/vectorstores/faiss.py:1190\u001b[0m, in \u001b[0;36mFAISS.load_local\u001b[0;34m(cls, folder_path, embeddings, index_name, allow_dangerous_deserialization, **kwargs)\u001b[0m\n\u001b[1;32m   1176\u001b[0m \u001b[38;5;250m\u001b[39m\u001b[38;5;124;03m\"\"\"Load FAISS index, docstore, and index_to_docstore_id from disk.\u001b[39;00m\n\u001b[1;32m   1177\u001b[0m \n\u001b[1;32m   1178\u001b[0m \u001b[38;5;124;03mArgs:\u001b[39;00m\n\u001b[0;32m   (...)\u001b[0m\n\u001b[1;32m   1187\u001b[0m \u001b[38;5;124;03m        arbitrary code on your machine.\u001b[39;00m\n\u001b[1;32m   1188\u001b[0m \u001b[38;5;124;03m\"\"\"\u001b[39;00m\n\u001b[1;32m   1189\u001b[0m \u001b[38;5;28;01mif\u001b[39;00m \u001b[38;5;129;01mnot\u001b[39;00m allow_dangerous_deserialization:\n\u001b[0;32m-> 1190\u001b[0m     \u001b[38;5;28;01mraise\u001b[39;00m \u001b[38;5;167;01mValueError\u001b[39;00m(\n\u001b[1;32m   1191\u001b[0m         \u001b[38;5;124m\"\u001b[39m\u001b[38;5;124mThe de-serialization relies loading a pickle file. \u001b[39m\u001b[38;5;124m\"\u001b[39m\n\u001b[1;32m   1192\u001b[0m         \u001b[38;5;124m\"\u001b[39m\u001b[38;5;124mPickle files can be modified to deliver a malicious payload that \u001b[39m\u001b[38;5;124m\"\u001b[39m\n\u001b[1;32m   1193\u001b[0m         \u001b[38;5;124m\"\u001b[39m\u001b[38;5;124mresults in execution of arbitrary code on your machine.\u001b[39m\u001b[38;5;124m\"\u001b[39m\n\u001b[1;32m   1194\u001b[0m         \u001b[38;5;124m\"\u001b[39m\u001b[38;5;124mYou will need to set `allow_dangerous_deserialization` to `True` to \u001b[39m\u001b[38;5;124m\"\u001b[39m\n\u001b[1;32m   1195\u001b[0m         \u001b[38;5;124m\"\u001b[39m\u001b[38;5;124menable deserialization. If you do this, make sure that you \u001b[39m\u001b[38;5;124m\"\u001b[39m\n\u001b[1;32m   1196\u001b[0m         \u001b[38;5;124m\"\u001b[39m\u001b[38;5;124mtrust the source of the data. For example, if you are loading a \u001b[39m\u001b[38;5;124m\"\u001b[39m\n\u001b[1;32m   1197\u001b[0m         \u001b[38;5;124m\"\u001b[39m\u001b[38;5;124mfile that you created, and know that no one else has modified the \u001b[39m\u001b[38;5;124m\"\u001b[39m\n\u001b[1;32m   1198\u001b[0m         \u001b[38;5;124m\"\u001b[39m\u001b[38;5;124mfile, then this is safe to do. Do not set this to `True` if you are \u001b[39m\u001b[38;5;124m\"\u001b[39m\n\u001b[1;32m   1199\u001b[0m         \u001b[38;5;124m\"\u001b[39m\u001b[38;5;124mloading a file from an untrusted source (e.g., some random site on \u001b[39m\u001b[38;5;124m\"\u001b[39m\n\u001b[1;32m   1200\u001b[0m         \u001b[38;5;124m\"\u001b[39m\u001b[38;5;124mthe internet.).\u001b[39m\u001b[38;5;124m\"\u001b[39m\n\u001b[1;32m   1201\u001b[0m     )\n\u001b[1;32m   1202\u001b[0m path \u001b[38;5;241m=\u001b[39m Path(folder_path)\n\u001b[1;32m   1203\u001b[0m \u001b[38;5;66;03m# load index separately since it is not picklable\u001b[39;00m\n",
      "\u001b[0;31mValueError\u001b[0m: The de-serialization relies loading a pickle file. Pickle files can be modified to deliver a malicious payload that results in execution of arbitrary code on your machine.You will need to set `allow_dangerous_deserialization` to `True` to enable deserialization. If you do this, make sure that you trust the source of the data. For example, if you are loading a file that you created, and know that no one else has modified the file, then this is safe to do. Do not set this to `True` if you are loading a file from an untrusted source (e.g., some random site on the internet.)."
     ]
    }
   ],
   "source": [
    "# Later reload\n",
    "new_vs = FAISS.load_local(\"faiss_index/index.pkl\", embedding_model)"
   ]
  },
  {
   "cell_type": "code",
   "execution_count": null,
   "id": "0cc988d2-c4a6-4f4d-86e2-25d200d2e394",
   "metadata": {},
   "outputs": [],
   "source": []
  }
 ],
 "metadata": {
  "kernelspec": {
   "display_name": "Python 3 (ipykernel)",
   "language": "python",
   "name": "python3"
  },
  "language_info": {
   "codemirror_mode": {
    "name": "ipython",
    "version": 3
   },
   "file_extension": ".py",
   "mimetype": "text/x-python",
   "name": "python",
   "nbconvert_exporter": "python",
   "pygments_lexer": "ipython3",
   "version": "3.12.9"
  }
 },
 "nbformat": 4,
 "nbformat_minor": 5
}
